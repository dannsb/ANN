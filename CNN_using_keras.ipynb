{
  "nbformat": 4,
  "nbformat_minor": 0,
  "metadata": {
    "colab": {
      "provenance": [],
      "authorship_tag": "ABX9TyPXghRkbCc8aIHdZcz0dL10"
    },
    "kernelspec": {
      "name": "python3",
      "display_name": "Python 3"
    },
    "language_info": {
      "name": "python"
    }
  },
  "cells": [
    {
      "cell_type": "markdown",
      "source": [
        "#CNN using keras"
      ],
      "metadata": {
        "id": "XdRk_q-3eTH7"
      }
    },
    {
      "cell_type": "markdown",
      "source": [
        "### import libs"
      ],
      "metadata": {
        "id": "PzHfNjEIeXIX"
      }
    },
    {
      "cell_type": "code",
      "execution_count": 14,
      "metadata": {
        "id": "qZ2iO1G_Ra2U"
      },
      "outputs": [],
      "source": [
        "from keras.models import Sequential\n",
        "from keras.datasets import mnist\n",
        "from keras.layers import Conv2D, MaxPooling2D,Flatten, Dense\n",
        "from keras.utils import to_categorical"
      ]
    },
    {
      "cell_type": "markdown",
      "source": [
        "### loading dataset"
      ],
      "metadata": {
        "id": "_LQgZDyxejtl"
      }
    },
    {
      "cell_type": "code",
      "source": [
        "(x_train, y_train), (x_test, y_test) = mnist.load_data()"
      ],
      "metadata": {
        "id": "D7cM0lBwUVSl"
      },
      "execution_count": 15,
      "outputs": []
    },
    {
      "cell_type": "markdown",
      "source": [
        "### Reshaping the Image\n",
        "MNIST dataset images are 28x28 matrices (grayscale images). However, Keras expects the input to convolutional layers to be in a specific format"
      ],
      "metadata": {
        "id": "U2j6l2u-eqYq"
      }
    },
    {
      "cell_type": "code",
      "source": [
        "x_train = x_train.reshape(-1, 28, 28, 1).astype('float32') / 255.0\n",
        "x_test = x_test.reshape(-1, 28, 28, 1).astype('float32') / 255.0"
      ],
      "metadata": {
        "id": "M5VCWPQSVd2C"
      },
      "execution_count": 16,
      "outputs": []
    },
    {
      "cell_type": "markdown",
      "source": [
        "The labels in the MNIST dataset are integers (from 0 to 9).for training a neural network (especially for multi-class classification), it's common to convert these labels"
      ],
      "metadata": {
        "id": "PiG_rbvNfGCV"
      }
    },
    {
      "cell_type": "code",
      "source": [
        "y_train = to_categorical(y_train, num_classes=10)\n",
        "y_test = to_categorical(y_test, num_classes=10)"
      ],
      "metadata": {
        "id": "sbW4dxKBfDXQ"
      },
      "execution_count": 17,
      "outputs": []
    },
    {
      "cell_type": "markdown",
      "source": [
        "### Add CNN and Pooling layers"
      ],
      "metadata": {
        "id": "8atg8fjLfRn-"
      }
    },
    {
      "cell_type": "code",
      "source": [
        "model = Sequential()\n",
        "model.add(Conv2D(32,(3,3),activation='relu'))\n",
        "model.add(MaxPooling2D(2,2))\n",
        "model.add(Conv2D(64,(3,3),activation='relu'))\n",
        "model.add(MaxPooling2D(2,2))\n",
        "model.add(Conv2D(64,3,activation='relu'))"
      ],
      "metadata": {
        "id": "u700v8zkRwLy"
      },
      "execution_count": 18,
      "outputs": []
    },
    {
      "cell_type": "markdown",
      "source": [
        "### Add Fully connected layers for ANN\n",
        "Flatten(): convert multi-dimensional to 1D array, fully connected (Dense) layers in neural networks require a 1D input.\\\n",
        "Dense : creata a fully connected layer with 128 neurons."
      ],
      "metadata": {
        "id": "DdrJ51Zef0Eq"
      }
    },
    {
      "cell_type": "code",
      "source": [
        "model.add(Flatten())\n",
        "model.add(Dense(units=128, activation='relu'))\n",
        "model.add(Dense(units=10, activation='softmax'))"
      ],
      "metadata": {
        "id": "tRQ504NxTJSr"
      },
      "execution_count": 19,
      "outputs": []
    },
    {
      "cell_type": "code",
      "source": [
        "model.compile(optimizer='adam',\n",
        "              loss='categorical_crossentropy',\n",
        "              metrics=['accuracy'])"
      ],
      "metadata": {
        "id": "IpiwwaXAU8jX"
      },
      "execution_count": 20,
      "outputs": []
    },
    {
      "cell_type": "code",
      "source": [
        "model.fit(x_train, y_train, epochs=1, batch_size=128, validation_split=0.1)"
      ],
      "metadata": {
        "colab": {
          "base_uri": "https://localhost:8080/"
        },
        "id": "tXWbe6n9V1lU",
        "outputId": "99aeca3a-f8ec-4c88-8440-1b29a2f145ff"
      },
      "execution_count": 21,
      "outputs": [
        {
          "output_type": "stream",
          "name": "stdout",
          "text": [
            "\u001b[1m422/422\u001b[0m \u001b[32m━━━━━━━━━━━━━━━━━━━━\u001b[0m\u001b[37m\u001b[0m \u001b[1m47s\u001b[0m 104ms/step - accuracy: 0.8291 - loss: 0.5514 - val_accuracy: 0.9847 - val_loss: 0.0568\n"
          ]
        },
        {
          "output_type": "execute_result",
          "data": {
            "text/plain": [
              "<keras.src.callbacks.history.History at 0x7b1cd4182980>"
            ]
          },
          "metadata": {},
          "execution_count": 21
        }
      ]
    },
    {
      "cell_type": "markdown",
      "source": [
        "###Result"
      ],
      "metadata": {
        "id": "_jJf5mXAgu0p"
      }
    },
    {
      "cell_type": "code",
      "source": [
        "test_loss, test_accuracy = model.evaluate(x_test, y_test)\n",
        "print(f\"Test Accuracy: {test_accuracy*100:.2f}%\")"
      ],
      "metadata": {
        "colab": {
          "base_uri": "https://localhost:8080/"
        },
        "id": "HOG7aoy9V3pI",
        "outputId": "312eb85c-4a63-42f2-c556-f3ff03888ab7"
      },
      "execution_count": 22,
      "outputs": [
        {
          "output_type": "stream",
          "name": "stdout",
          "text": [
            "\u001b[1m313/313\u001b[0m \u001b[32m━━━━━━━━━━━━━━━━━━━━\u001b[0m\u001b[37m\u001b[0m \u001b[1m3s\u001b[0m 9ms/step - accuracy: 0.9792 - loss: 0.0685\n",
            "Test Accuracy: 98.32%\n"
          ]
        }
      ]
    }
  ]
}